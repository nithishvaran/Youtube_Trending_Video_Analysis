{
 "cells": [
  {
   "cell_type": "code",
   "execution_count": 1,
   "id": "5fe36ffa",
   "metadata": {},
   "outputs": [],
   "source": [
    "import numpy as np \n",
    "import pandas as pd\n",
    "import matplotlib.pyplot as plt"
   ]
  },
  {
   "cell_type": "code",
   "execution_count": 21,
   "id": "c5636682",
   "metadata": {
    "scrolled": false
   },
   "outputs": [
    {
     "data": {
      "text/html": [
       "<div>\n",
       "<style scoped>\n",
       "    .dataframe tbody tr th:only-of-type {\n",
       "        vertical-align: middle;\n",
       "    }\n",
       "\n",
       "    .dataframe tbody tr th {\n",
       "        vertical-align: top;\n",
       "    }\n",
       "\n",
       "    .dataframe thead th {\n",
       "        text-align: right;\n",
       "    }\n",
       "</style>\n",
       "<table border=\"1\" class=\"dataframe\">\n",
       "  <thead>\n",
       "    <tr style=\"text-align: right;\">\n",
       "      <th></th>\n",
       "      <th>video_id</th>\n",
       "      <th>title</th>\n",
       "      <th>publishedAt</th>\n",
       "      <th>channelId</th>\n",
       "      <th>channelTitle</th>\n",
       "      <th>categoryId</th>\n",
       "      <th>trending_date</th>\n",
       "      <th>tags</th>\n",
       "      <th>view_count</th>\n",
       "      <th>likes</th>\n",
       "      <th>dislikes</th>\n",
       "      <th>comment_count</th>\n",
       "      <th>thumbnail_link</th>\n",
       "      <th>comments_disabled</th>\n",
       "      <th>ratings_disabled</th>\n",
       "      <th>description</th>\n",
       "    </tr>\n",
       "  </thead>\n",
       "  <tbody>\n",
       "    <tr>\n",
       "      <th>0</th>\n",
       "      <td>Iot0eF6EoNA</td>\n",
       "      <td>Sadak 2 | Official Trailer | Sanjay | Pooja | ...</td>\n",
       "      <td>2020-08-12T04:31:41Z</td>\n",
       "      <td>UCGqvJPRcv7aVFun-eTsatcA</td>\n",
       "      <td>FoxStarHindi</td>\n",
       "      <td>24</td>\n",
       "      <td>2020-08-12T00:00:00Z</td>\n",
       "      <td>sadak|sadak 2|mahesh bhatt|vishesh films|pooja...</td>\n",
       "      <td>9885899</td>\n",
       "      <td>224925</td>\n",
       "      <td>3979409</td>\n",
       "      <td>350210</td>\n",
       "      <td>https://i.ytimg.com/vi/Iot0eF6EoNA/default.jpg</td>\n",
       "      <td>False</td>\n",
       "      <td>False</td>\n",
       "      <td>Three Streams. Three Stories. One Journey. Sta...</td>\n",
       "    </tr>\n",
       "    <tr>\n",
       "      <th>1</th>\n",
       "      <td>x-KbnJ9fvJc</td>\n",
       "      <td>Kya Baat Aa : Karan Aujla (Official Video) Tan...</td>\n",
       "      <td>2020-08-11T09:00:11Z</td>\n",
       "      <td>UCm9SZAl03Rev9sFwloCdz1g</td>\n",
       "      <td>Rehaan Records</td>\n",
       "      <td>10</td>\n",
       "      <td>2020-08-12T00:00:00Z</td>\n",
       "      <td>[None]</td>\n",
       "      <td>11308046</td>\n",
       "      <td>655450</td>\n",
       "      <td>33242</td>\n",
       "      <td>405146</td>\n",
       "      <td>https://i.ytimg.com/vi/x-KbnJ9fvJc/default.jpg</td>\n",
       "      <td>False</td>\n",
       "      <td>False</td>\n",
       "      <td>Singer/Lyrics: Karan Aujla Feat Tania Music/ D...</td>\n",
       "    </tr>\n",
       "    <tr>\n",
       "      <th>2</th>\n",
       "      <td>KX06ksuS6Xo</td>\n",
       "      <td>Diljit Dosanjh: CLASH (Official) Music Video |...</td>\n",
       "      <td>2020-08-11T07:30:02Z</td>\n",
       "      <td>UCZRdNleCgW-BGUJf-bbjzQg</td>\n",
       "      <td>Diljit Dosanjh</td>\n",
       "      <td>10</td>\n",
       "      <td>2020-08-12T00:00:00Z</td>\n",
       "      <td>clash diljit dosanjh|diljit dosanjh|diljit dos...</td>\n",
       "      <td>9140911</td>\n",
       "      <td>296533</td>\n",
       "      <td>6179</td>\n",
       "      <td>30058</td>\n",
       "      <td>https://i.ytimg.com/vi/KX06ksuS6Xo/default.jpg</td>\n",
       "      <td>False</td>\n",
       "      <td>False</td>\n",
       "      <td>CLASH official music video performed by DILJIT...</td>\n",
       "    </tr>\n",
       "    <tr>\n",
       "      <th>3</th>\n",
       "      <td>UsMRgnTcchY</td>\n",
       "      <td>Dil Ko Maine Di Kasam Video | Amaal M Ft.Ariji...</td>\n",
       "      <td>2020-08-10T05:30:49Z</td>\n",
       "      <td>UCq-Fj5jknLsUf-MWSy4_brA</td>\n",
       "      <td>T-Series</td>\n",
       "      <td>10</td>\n",
       "      <td>2020-08-12T00:00:00Z</td>\n",
       "      <td>hindi songs|2020 hindi songs|2020 new songs|t-...</td>\n",
       "      <td>23564512</td>\n",
       "      <td>743931</td>\n",
       "      <td>84162</td>\n",
       "      <td>136942</td>\n",
       "      <td>https://i.ytimg.com/vi/UsMRgnTcchY/default.jpg</td>\n",
       "      <td>False</td>\n",
       "      <td>False</td>\n",
       "      <td>Gulshan Kumar and T-Series presents Bhushan Ku...</td>\n",
       "    </tr>\n",
       "    <tr>\n",
       "      <th>4</th>\n",
       "      <td>WNSEXJJhKTU</td>\n",
       "      <td>Baarish (Official Video) Payal Dev,Stebin Ben ...</td>\n",
       "      <td>2020-08-11T05:30:13Z</td>\n",
       "      <td>UCye6Oz0mg46S362LwARGVcA</td>\n",
       "      <td>VYRLOriginals</td>\n",
       "      <td>10</td>\n",
       "      <td>2020-08-12T00:00:00Z</td>\n",
       "      <td>VYRL Original|Mohsin Khan|Shivangi Joshi|Payal...</td>\n",
       "      <td>6783649</td>\n",
       "      <td>268817</td>\n",
       "      <td>8798</td>\n",
       "      <td>22984</td>\n",
       "      <td>https://i.ytimg.com/vi/WNSEXJJhKTU/default.jpg</td>\n",
       "      <td>False</td>\n",
       "      <td>False</td>\n",
       "      <td>VYRL Originals brings to you ‘Baarish’ - the b...</td>\n",
       "    </tr>\n",
       "  </tbody>\n",
       "</table>\n",
       "</div>"
      ],
      "text/plain": [
       "      video_id                                              title  \\\n",
       "0  Iot0eF6EoNA  Sadak 2 | Official Trailer | Sanjay | Pooja | ...   \n",
       "1  x-KbnJ9fvJc  Kya Baat Aa : Karan Aujla (Official Video) Tan...   \n",
       "2  KX06ksuS6Xo  Diljit Dosanjh: CLASH (Official) Music Video |...   \n",
       "3  UsMRgnTcchY  Dil Ko Maine Di Kasam Video | Amaal M Ft.Ariji...   \n",
       "4  WNSEXJJhKTU  Baarish (Official Video) Payal Dev,Stebin Ben ...   \n",
       "\n",
       "            publishedAt                 channelId    channelTitle  categoryId  \\\n",
       "0  2020-08-12T04:31:41Z  UCGqvJPRcv7aVFun-eTsatcA    FoxStarHindi          24   \n",
       "1  2020-08-11T09:00:11Z  UCm9SZAl03Rev9sFwloCdz1g  Rehaan Records          10   \n",
       "2  2020-08-11T07:30:02Z  UCZRdNleCgW-BGUJf-bbjzQg  Diljit Dosanjh          10   \n",
       "3  2020-08-10T05:30:49Z  UCq-Fj5jknLsUf-MWSy4_brA        T-Series          10   \n",
       "4  2020-08-11T05:30:13Z  UCye6Oz0mg46S362LwARGVcA   VYRLOriginals          10   \n",
       "\n",
       "          trending_date                                               tags  \\\n",
       "0  2020-08-12T00:00:00Z  sadak|sadak 2|mahesh bhatt|vishesh films|pooja...   \n",
       "1  2020-08-12T00:00:00Z                                             [None]   \n",
       "2  2020-08-12T00:00:00Z  clash diljit dosanjh|diljit dosanjh|diljit dos...   \n",
       "3  2020-08-12T00:00:00Z  hindi songs|2020 hindi songs|2020 new songs|t-...   \n",
       "4  2020-08-12T00:00:00Z  VYRL Original|Mohsin Khan|Shivangi Joshi|Payal...   \n",
       "\n",
       "   view_count   likes  dislikes  comment_count  \\\n",
       "0     9885899  224925   3979409         350210   \n",
       "1    11308046  655450     33242         405146   \n",
       "2     9140911  296533      6179          30058   \n",
       "3    23564512  743931     84162         136942   \n",
       "4     6783649  268817      8798          22984   \n",
       "\n",
       "                                   thumbnail_link  comments_disabled  \\\n",
       "0  https://i.ytimg.com/vi/Iot0eF6EoNA/default.jpg              False   \n",
       "1  https://i.ytimg.com/vi/x-KbnJ9fvJc/default.jpg              False   \n",
       "2  https://i.ytimg.com/vi/KX06ksuS6Xo/default.jpg              False   \n",
       "3  https://i.ytimg.com/vi/UsMRgnTcchY/default.jpg              False   \n",
       "4  https://i.ytimg.com/vi/WNSEXJJhKTU/default.jpg              False   \n",
       "\n",
       "   ratings_disabled                                        description  \n",
       "0             False  Three Streams. Three Stories. One Journey. Sta...  \n",
       "1             False  Singer/Lyrics: Karan Aujla Feat Tania Music/ D...  \n",
       "2             False  CLASH official music video performed by DILJIT...  \n",
       "3             False  Gulshan Kumar and T-Series presents Bhushan Ku...  \n",
       "4             False  VYRL Originals brings to you ‘Baarish’ - the b...  "
      ]
     },
     "execution_count": 21,
     "metadata": {},
     "output_type": "execute_result"
    }
   ],
   "source": [
    "df = pd.read_csv(r'C:\\Users\\varan\\Desktop\\Downloads\\IN_youtube_trending_data.csv')\n",
    "df.head()"
   ]
  },
  {
   "cell_type": "code",
   "execution_count": 3,
   "id": "4e99c2c7",
   "metadata": {},
   "outputs": [
    {
     "data": {
      "text/plain": [
       "<AxesSubplot:xlabel='Category'>"
      ]
     },
     "execution_count": 3,
     "metadata": {},
     "output_type": "execute_result"
    },
    {
     "data": {
      "image/png": "[encoded data removed]",
      "text/plain": [
       "<Figure size 1080x576 with 1 Axes>"
      ]
     },
     "metadata": {
      "needs_background": "light"
     },
     "output_type": "display_data"
    }
   ],
   "source": [
    "temp = pd.DataFrame({\"Category\":df['categoryId']})\n",
    "count_wins = temp.value_counts()\n",
    "count_wins.plot(kind='bar',figsize=(15,8))"
   ]
  },
  {
   "cell_type": "code",
   "execution_count": 4,
   "id": "cf5ab701",
   "metadata": {},
   "outputs": [],
   "source": [
    "channel_title = df['channelTitle'].unique()\n",
    "channel_history = pd.DataFrame([],columns=['Channel_Title','Video_Title_max','Max_Views','Video_Title_min','Min_Views','Avearage_View_Count'])\n",
    "for id,element in enumerate(channel_title):\n",
    "    temp_history = df[df['channelTitle'] == element]\n",
    "    video_history_max = temp_history[temp_history['view_count']==temp_history['view_count'].max()]\n",
    "    video_history_min = temp_history[temp_history['view_count']==temp_history['view_count'].min()]\n",
    "    channel_history = channel_history.append({'Channel_Title':element,'Video_Title_max':video_history_max['title'],'Max_Views':temp_history['view_count'].max(),'Video_Title_min':video_history_min['title'],'Min_Views':temp_history['view_count'].min(),'Avearage_View_Count':temp_history['view_count'].mean()},ignore_index=True)"
   ]
  },
  {
   "cell_type": "code",
   "execution_count": 5,
   "id": "71b16e8d",
   "metadata": {},
   "outputs": [
    {
     "data": {
      "text/html": [
       "<div>\n",
       "<style scoped>\n",
       "    .dataframe tbody tr th:only-of-type {\n",
       "        vertical-align: middle;\n",
       "    }\n",
       "\n",
       "    .dataframe tbody tr th {\n",
       "        vertical-align: top;\n",
       "    }\n",
       "\n",
       "    .dataframe thead th {\n",
       "        text-align: right;\n",
       "    }\n",
       "</style>\n",
       "<table border=\"1\" class=\"dataframe\">\n",
       "  <thead>\n",
       "    <tr style=\"text-align: right;\">\n",
       "      <th></th>\n",
       "      <th>Channel_Title</th>\n",
       "      <th>Video_Title_max</th>\n",
       "      <th>Max_Views</th>\n",
       "      <th>Video_Title_min</th>\n",
       "      <th>Min_Views</th>\n",
       "      <th>Avearage_View_Count</th>\n",
       "    </tr>\n",
       "  </thead>\n",
       "  <tbody>\n",
       "    <tr>\n",
       "      <th>0</th>\n",
       "      <td>FoxStarHindi</td>\n",
       "      <td>2070    Sadak 2 | Official Trailer | Sanjay | ...</td>\n",
       "      <td>66344227</td>\n",
       "      <td>6925    Laxmmi Bomb | Motion Poster | Akshay K...</td>\n",
       "      <td>543362</td>\n",
       "      <td>3.328826e+07</td>\n",
       "    </tr>\n",
       "    <tr>\n",
       "      <th>1</th>\n",
       "      <td>Rehaan Records</td>\n",
       "      <td>1618    Kya Baat Aa : Karan Aujla (Official Vi...</td>\n",
       "      <td>37585253</td>\n",
       "      <td>7344    Good Vibe (Teaser) Navjot I Proof | Ed...</td>\n",
       "      <td>79598</td>\n",
       "      <td>9.027570e+06</td>\n",
       "    </tr>\n",
       "    <tr>\n",
       "      <th>2</th>\n",
       "      <td>Diljit Dosanjh</td>\n",
       "      <td>6285    Diljit Dosanjh: Born To Shine (Officia...</td>\n",
       "      <td>21959351</td>\n",
       "      <td>33911    RiRi (Rihanna) Lyrical Video Song By ...</td>\n",
       "      <td>67213</td>\n",
       "      <td>8.001926e+06</td>\n",
       "    </tr>\n",
       "    <tr>\n",
       "      <th>3</th>\n",
       "      <td>T-Series</td>\n",
       "      <td>65048    Guru Randhawa: Nain Bengali (Official...</td>\n",
       "      <td>130124523</td>\n",
       "      <td>12768    PM Narendra Modi: Bharat Ki Mukti (Di...</td>\n",
       "      <td>205717</td>\n",
       "      <td>2.240305e+07</td>\n",
       "    </tr>\n",
       "    <tr>\n",
       "      <th>4</th>\n",
       "      <td>VYRLOriginals</td>\n",
       "      <td>56622    Baarish Ban Jaana (Official Video) Pa...</td>\n",
       "      <td>46199357</td>\n",
       "      <td>28388    Faraar (Official Teaser) Akull | Avne...</td>\n",
       "      <td>101581</td>\n",
       "      <td>1.094884e+07</td>\n",
       "    </tr>\n",
       "    <tr>\n",
       "      <th>...</th>\n",
       "      <td>...</td>\n",
       "      <td>...</td>\n",
       "      <td>...</td>\n",
       "      <td>...</td>\n",
       "      <td>...</td>\n",
       "      <td>...</td>\n",
       "    </tr>\n",
       "    <tr>\n",
       "      <th>2325</th>\n",
       "      <td>Akash Dodeja</td>\n",
       "      <td>67222    THIS IS WHY I LEFT YOUTUBE | Jadoo vl...</td>\n",
       "      <td>1039834</td>\n",
       "      <td>67222    THIS IS WHY I LEFT YOUTUBE | Jadoo vl...</td>\n",
       "      <td>1039834</td>\n",
       "      <td>1.039834e+06</td>\n",
       "    </tr>\n",
       "    <tr>\n",
       "      <th>2326</th>\n",
       "      <td>Disparo Media</td>\n",
       "      <td>67227    Kallummakkaya | Web Series | Episode ...</td>\n",
       "      <td>305581</td>\n",
       "      <td>67227    Kallummakkaya | Web Series | Episode ...</td>\n",
       "      <td>305581</td>\n",
       "      <td>3.055810e+05</td>\n",
       "    </tr>\n",
       "    <tr>\n",
       "      <th>2327</th>\n",
       "      <td>FEBBIE RJ</td>\n",
       "      <td>67261    Drinking my favourite water 🐶😍\n",
       "Name: ...</td>\n",
       "      <td>49869</td>\n",
       "      <td>67261    Drinking my favourite water 🐶😍\n",
       "Name: ...</td>\n",
       "      <td>49869</td>\n",
       "      <td>4.986900e+04</td>\n",
       "    </tr>\n",
       "    <tr>\n",
       "      <th>2328</th>\n",
       "      <td>Gulf Oil India</td>\n",
       "      <td>67263    Gulf Duramax Super Jodi - Tamil\n",
       "Name:...</td>\n",
       "      <td>789712</td>\n",
       "      <td>67263    Gulf Duramax Super Jodi - Tamil\n",
       "Name:...</td>\n",
       "      <td>789712</td>\n",
       "      <td>7.897120e+05</td>\n",
       "    </tr>\n",
       "    <tr>\n",
       "      <th>2329</th>\n",
       "      <td>Indiatimes</td>\n",
       "      <td>67295    India At Tokyo Olympics 2021: PV Sind...</td>\n",
       "      <td>394907</td>\n",
       "      <td>67295    India At Tokyo Olympics 2021: PV Sind...</td>\n",
       "      <td>394907</td>\n",
       "      <td>3.949070e+05</td>\n",
       "    </tr>\n",
       "  </tbody>\n",
       "</table>\n",
       "<p>2330 rows × 6 columns</p>\n",
       "</div>"
      ],
      "text/plain": [
       "       Channel_Title                                    Video_Title_max  \\\n",
       "0       FoxStarHindi  2070    Sadak 2 | Official Trailer | Sanjay | ...   \n",
       "1     Rehaan Records  1618    Kya Baat Aa : Karan Aujla (Official Vi...   \n",
       "2     Diljit Dosanjh  6285    Diljit Dosanjh: Born To Shine (Officia...   \n",
       "3           T-Series  65048    Guru Randhawa: Nain Bengali (Official...   \n",
       "4      VYRLOriginals  56622    Baarish Ban Jaana (Official Video) Pa...   \n",
       "...              ...                                                ...   \n",
       "2325    Akash Dodeja  67222    THIS IS WHY I LEFT YOUTUBE | Jadoo vl...   \n",
       "2326   Disparo Media  67227    Kallummakkaya | Web Series | Episode ...   \n",
       "2327       FEBBIE RJ  67261    Drinking my favourite water 🐶😍\n",
       "Name: ...   \n",
       "2328  Gulf Oil India  67263    Gulf Duramax Super Jodi - Tamil\n",
       "Name:...   \n",
       "2329      Indiatimes  67295    India At Tokyo Olympics 2021: PV Sind...   \n",
       "\n",
       "      Max_Views                                    Video_Title_min Min_Views  \\\n",
       "0      66344227  6925    Laxmmi Bomb | Motion Poster | Akshay K...    543362   \n",
       "1      37585253  7344    Good Vibe (Teaser) Navjot I Proof | Ed...     79598   \n",
       "2      21959351  33911    RiRi (Rihanna) Lyrical Video Song By ...     67213   \n",
       "3     130124523  12768    PM Narendra Modi: Bharat Ki Mukti (Di...    205717   \n",
       "4      46199357  28388    Faraar (Official Teaser) Akull | Avne...    101581   \n",
       "...         ...                                                ...       ...   \n",
       "2325    1039834  67222    THIS IS WHY I LEFT YOUTUBE | Jadoo vl...   1039834   \n",
       "2326     305581  67227    Kallummakkaya | Web Series | Episode ...    305581   \n",
       "2327      49869  67261    Drinking my favourite water 🐶😍\n",
       "Name: ...     49869   \n",
       "2328     789712  67263    Gulf Duramax Super Jodi - Tamil\n",
       "Name:...    789712   \n",
       "2329     394907  67295    India At Tokyo Olympics 2021: PV Sind...    394907   \n",
       "\n",
       "      Avearage_View_Count  \n",
       "0            3.328826e+07  \n",
       "1            9.027570e+06  \n",
       "2            8.001926e+06  \n",
       "3            2.240305e+07  \n",
       "4            1.094884e+07  \n",
       "...                   ...  \n",
       "2325         1.039834e+06  \n",
       "2326         3.055810e+05  \n",
       "2327         4.986900e+04  \n",
       "2328         7.897120e+05  \n",
       "2329         3.949070e+05  \n",
       "\n",
       "[2330 rows x 6 columns]"
      ]
     },
     "execution_count": 5,
     "metadata": {},
     "output_type": "execute_result"
    }
   ],
   "source": [
    "channel_history"
   ]
  },
  {
   "cell_type": "code",
   "execution_count": 20,
   "id": "cdab9183",
   "metadata": {},
   "outputs": [
    {
     "data": {
      "text/html": [
       "<div>\n",
       "<style scoped>\n",
       "    .dataframe tbody tr th:only-of-type {\n",
       "        vertical-align: middle;\n",
       "    }\n",
       "\n",
       "    .dataframe tbody tr th {\n",
       "        vertical-align: top;\n",
       "    }\n",
       "\n",
       "    .dataframe thead th {\n",
       "        text-align: right;\n",
       "    }\n",
       "</style>\n",
       "<table border=\"1\" class=\"dataframe\">\n",
       "  <thead>\n",
       "    <tr style=\"text-align: right;\">\n",
       "      <th></th>\n",
       "      <th>Channel_Title</th>\n",
       "      <th>Video_Title_max</th>\n",
       "      <th>Max_Views</th>\n",
       "      <th>Video_Title_min</th>\n",
       "      <th>Min_Views</th>\n",
       "      <th>Avearage_View_Count</th>\n",
       "    </tr>\n",
       "  </thead>\n",
       "  <tbody>\n",
       "    <tr>\n",
       "      <th>1882</th>\n",
       "      <td>HYBE LABELS</td>\n",
       "      <td>52057    BTS (방탄소년단) 'Butter' Official MV\n",
       "Name...</td>\n",
       "      <td>264407389</td>\n",
       "      <td>62609    [BIGHIT MUSIC] HIT IT BASE 2021 - Pro...</td>\n",
       "      <td>1408731</td>\n",
       "      <td>4.806945e+07</td>\n",
       "    </tr>\n",
       "    <tr>\n",
       "      <th>334</th>\n",
       "      <td>Big Hit Labels</td>\n",
       "      <td>3619    BTS (방탄소년단) 'Dynamite' Official MV\n",
       "Nam...</td>\n",
       "      <td>253995993</td>\n",
       "      <td>26073    [2021NYEL] 2021 NEW YEAR'S EVE LIVE R...</td>\n",
       "      <td>1923148</td>\n",
       "      <td>5.214980e+07</td>\n",
       "    </tr>\n",
       "    <tr>\n",
       "      <th>1051</th>\n",
       "      <td>DM - Desi Melodies</td>\n",
       "      <td>64049    Filhaal2 Mohabbat | Akshay Kumar Ft N...</td>\n",
       "      <td>202091414</td>\n",
       "      <td>16689    Titliaan - Trailer | Harrdy Sandhu | ...</td>\n",
       "      <td>754029</td>\n",
       "      <td>3.880029e+07</td>\n",
       "    </tr>\n",
       "    <tr>\n",
       "      <th>451</th>\n",
       "      <td>BLACKPINK</td>\n",
       "      <td>4735    BLACKPINK - 'Ice Cream (with Selena Go...</td>\n",
       "      <td>184778248</td>\n",
       "      <td>27443    BLACKPINK - 'THE SHOW' MESSAGE VIDEO ...</td>\n",
       "      <td>1057335</td>\n",
       "      <td>2.871076e+07</td>\n",
       "    </tr>\n",
       "    <tr>\n",
       "      <th>857</th>\n",
       "      <td>Hombale Films</td>\n",
       "      <td>29476    KGF Chapter2 TEASER |Yash|Sanjay Dutt...</td>\n",
       "      <td>156704924</td>\n",
       "      <td>8683    Yuvarathnaa-Feel the Power|Vijay Kirag...</td>\n",
       "      <td>153550</td>\n",
       "      <td>1.752778e+07</td>\n",
       "    </tr>\n",
       "    <tr>\n",
       "      <th>...</th>\n",
       "      <td>...</td>\n",
       "      <td>...</td>\n",
       "      <td>...</td>\n",
       "      <td>...</td>\n",
       "      <td>...</td>\n",
       "      <td>...</td>\n",
       "    </tr>\n",
       "    <tr>\n",
       "      <th>492</th>\n",
       "      <td>ಉದ್ಯೋಗ ಮಿತ್ರ</td>\n",
       "      <td>3249    FDC &amp; SDC ಪರೀಕ್ಷೆಗಳ ಕುರಿತು ಹೊರಬಂತು ಪ್ರ...</td>\n",
       "      <td>23332</td>\n",
       "      <td>2760    FDC &amp; SDC ಪರೀಕ್ಷೆಗಳ ಕುರಿತು ಹೊರಬಂತು ಪ್ರ...</td>\n",
       "      <td>16775</td>\n",
       "      <td>2.031867e+04</td>\n",
       "    </tr>\n",
       "    <tr>\n",
       "      <th>1201</th>\n",
       "      <td>Study In Hindi</td>\n",
       "      <td>17532    IPL 2020 | IPL 2020 Important 40 Ques...</td>\n",
       "      <td>22103</td>\n",
       "      <td>17317    IPL 2020 | IPL 2020 Important 40 Ques...</td>\n",
       "      <td>15402</td>\n",
       "      <td>1.875250e+04</td>\n",
       "    </tr>\n",
       "    <tr>\n",
       "      <th>474</th>\n",
       "      <td>janmanch daman</td>\n",
       "      <td>3059    સંઘપ્રદેશ દાનહ દમણ દિવની બોર્ડર હવે લો...</td>\n",
       "      <td>21472</td>\n",
       "      <td>2548    સંઘપ્રદેશ દાનહ દમણ દિવની બોર્ડર હવે લો...</td>\n",
       "      <td>17351</td>\n",
       "      <td>1.949520e+04</td>\n",
       "    </tr>\n",
       "    <tr>\n",
       "      <th>1962</th>\n",
       "      <td>GoogleDoodles</td>\n",
       "      <td>46737    Earth Day 2021 Doodle\n",
       "46895    Earth ...</td>\n",
       "      <td>0</td>\n",
       "      <td>46737    Earth Day 2021 Doodle\n",
       "46895    Earth ...</td>\n",
       "      <td>0</td>\n",
       "      <td>0.000000e+00</td>\n",
       "    </tr>\n",
       "    <tr>\n",
       "      <th>1586</th>\n",
       "      <td>NaN</td>\n",
       "      <td>Series([], Name: title, dtype: object)</td>\n",
       "      <td>NaN</td>\n",
       "      <td>Series([], Name: title, dtype: object)</td>\n",
       "      <td>NaN</td>\n",
       "      <td>NaN</td>\n",
       "    </tr>\n",
       "  </tbody>\n",
       "</table>\n",
       "<p>2330 rows × 6 columns</p>\n",
       "</div>"
      ],
      "text/plain": [
       "           Channel_Title                                    Video_Title_max  \\\n",
       "1882         HYBE LABELS  52057    BTS (방탄소년단) 'Butter' Official MV\n",
       "Name...   \n",
       "334       Big Hit Labels  3619    BTS (방탄소년단) 'Dynamite' Official MV\n",
       "Nam...   \n",
       "1051  DM - Desi Melodies  64049    Filhaal2 Mohabbat | Akshay Kumar Ft N...   \n",
       "451            BLACKPINK  4735    BLACKPINK - 'Ice Cream (with Selena Go...   \n",
       "857        Hombale Films  29476    KGF Chapter2 TEASER |Yash|Sanjay Dutt...   \n",
       "...                  ...                                                ...   \n",
       "492         ಉದ್ಯೋಗ ಮಿತ್ರ  3249    FDC & SDC ಪರೀಕ್ಷೆಗಳ ಕುರಿತು ಹೊರಬಂತು ಪ್ರ...   \n",
       "1201      Study In Hindi  17532    IPL 2020 | IPL 2020 Important 40 Ques...   \n",
       "474       janmanch daman  3059    સંઘપ્રદેશ દાનહ દમણ દિવની બોર્ડર હવે લો...   \n",
       "1962       GoogleDoodles  46737    Earth Day 2021 Doodle\n",
       "46895    Earth ...   \n",
       "1586                 NaN             Series([], Name: title, dtype: object)   \n",
       "\n",
       "      Max_Views                                    Video_Title_min Min_Views  \\\n",
       "1882  264407389  62609    [BIGHIT MUSIC] HIT IT BASE 2021 - Pro...   1408731   \n",
       "334   253995993  26073    [2021NYEL] 2021 NEW YEAR'S EVE LIVE R...   1923148   \n",
       "1051  202091414  16689    Titliaan - Trailer | Harrdy Sandhu | ...    754029   \n",
       "451   184778248  27443    BLACKPINK - 'THE SHOW' MESSAGE VIDEO ...   1057335   \n",
       "857   156704924  8683    Yuvarathnaa-Feel the Power|Vijay Kirag...    153550   \n",
       "...         ...                                                ...       ...   \n",
       "492       23332  2760    FDC & SDC ಪರೀಕ್ಷೆಗಳ ಕುರಿತು ಹೊರಬಂತು ಪ್ರ...     16775   \n",
       "1201      22103  17317    IPL 2020 | IPL 2020 Important 40 Ques...     15402   \n",
       "474       21472  2548    સંઘપ્રદેશ દાનહ દમણ દિવની બોર્ડર હવે લો...     17351   \n",
       "1962          0  46737    Earth Day 2021 Doodle\n",
       "46895    Earth ...         0   \n",
       "1586        NaN             Series([], Name: title, dtype: object)       NaN   \n",
       "\n",
       "      Avearage_View_Count  \n",
       "1882         4.806945e+07  \n",
       "334          5.214980e+07  \n",
       "1051         3.880029e+07  \n",
       "451          2.871076e+07  \n",
       "857          1.752778e+07  \n",
       "...                   ...  \n",
       "492          2.031867e+04  \n",
       "1201         1.875250e+04  \n",
       "474          1.949520e+04  \n",
       "1962         0.000000e+00  \n",
       "1586                  NaN  \n",
       "\n",
       "[2330 rows x 6 columns]"
      ]
     },
     "execution_count": 20,
     "metadata": {},
     "output_type": "execute_result"
    }
   ],
   "source": [
    "channel_history=channel_history.sort_values(by='Max_Views',ascending=False)\n",
    "channel_history"
   ]
  },
  {
   "cell_type": "code",
   "execution_count": 6,
   "id": "105dba97",
   "metadata": {},
   "outputs": [
    {
     "data": {
      "text/plain": [
       "<AxesSubplot:xlabel='Channel_Title'>"
      ]
     },
     "execution_count": 6,
     "metadata": {},
     "output_type": "execute_result"
    },
    {
     "data": {
      "image/png": "[encoded data removed]",
      "text/plain": [
       "<Figure size 1080x576 with 1 Axes>"
      ]
     },
     "metadata": {
      "needs_background": "light"
     },
     "output_type": "display_data"
    }
   ],
   "source": [
    "filtered_dataset = channel_history.head(10)\n",
    "filtered_dataset.pivot(index='Channel_Title',columns=[]).plot(kind='bar',figsize=(15,8))"
   ]
  },
  {
   "cell_type": "code",
   "execution_count": 7,
   "id": "042b8bda",
   "metadata": {
    "scrolled": true
   },
   "outputs": [
    {
     "data": {
      "text/plain": [
       "array([['Iot0eF6EoNA',\n",
       "        'Sadak 2 | Official Trailer | Sanjay | Pooja | Alia | Aditya | Jisshu | Mahesh Bhatt | 28 Aug',\n",
       "        '2020-08-12T04:31:41Z', ..., False, False,\n",
       "        'Three Streams. Three Stories. One Journey. Stay tuned for #Sadak2 streaming from 28th August on Disney Plus Hotstar VIPDirected by Mahesh Bhatt Produced by Mukesh BhattCast:Sanjay Dutt Pooja BhattAlia Bhatt Aditya Roy Kapur Jisshu Sengupta Makarand DeshpandePriyanka BoseMohan KapurGulshan GroverAkshay Anand Written by: Mahesh Bhatt & Suhrita SenguptaCinematographer: Jay I.PatelMusic Director: Jeet Gannguli, Ankit Tiwari,Samidh Mukherjee & Urvi, SuniljeetMusic on: Sony Music Streaming on- DisneyPlusHotstarMultiplexfrom 28th August, 2020Also Subscribe To \\rFoxStarIndia: http://goo.gl/Y8HGhY\\rFoxStarSouth : http://goo.gl/AO8IsZ\\r\\rSocial Media Links\\rFacebook: https://www.facebook.com/foxstarhindi\\rTwitter: https://twitter.com/foxstarhindi\\rInstagram: http://instagram.com/foxstarhindi\\rPinterest: http://www.pinterest.com/foxstarhindi/\\r\\rDailymotion:\\rhttp://www.dailymotion.com/FoxStarHindi'],\n",
       "       ['x-KbnJ9fvJc',\n",
       "        'Kya Baat Aa : Karan Aujla (Official Video) Tania | Sukh Sanghera Desi Crew | Latest Punjabi Songs',\n",
       "        '2020-08-11T09:00:11Z', ..., False, False,\n",
       "        'Singer/Lyrics: Karan Aujla Feat Tania Music/ Desi Crew Mix & Master / Dc Studio’sVideo/ Sukh Sanghera Project By / Deep Rehaan Sukh Bajwa & Jeewan Chahal Produced By / Sandeep RehaanLabel / Rehaan RecordsOnline Promotions - Global Digital SolutionDigital Partner / Coin Digital Social media Promotions: Gk DigitialSpotify: https://spoti.fi/3kDfnNuYoutube Music: https://bit.ly/31N2tUkGaana: https://bit.ly/2PHrUkLhttps://wynk.in/u/SSWNC5VO3Website: WWW.RehaanRecords.CAFB: https://m.facebook.com/RehaanRecords/INSTA: Instagram/rehaanrecords'],\n",
       "       ['KX06ksuS6Xo',\n",
       "        'Diljit Dosanjh: CLASH (Official) Music Video | G.O.A.T.',\n",
       "        '2020-08-11T07:30:02Z', ..., False, False,\n",
       "        'CLASH official music video performed by DILJIT DOSANJH from his album G.O.A.T. Listen to the full album on Spotify ►https://spoti.fi/DiljitDosanjh_GOATFollow Diljit Dosanjh on Spotify ► https://spoti.fi/301R7wj Song: CLASHAlbum: G.O.A.T. Singer: Diljit DosanjhLyricist: Raj RanjodhMusic: The KiddModel: Komal BasranDirector: Rahul DuttaVideo Concept: San Dosanjh Production Team: Aastha Verma, Gursimran SinghBusiness Manager: Sonali SinghMix & Master: Dense (Dense Studios)Special Thanks: Kalikwest, Sukhi Dosanjh, Deep Sangha, Robbie Rai , DJ Johal #Clash #DiljitDosanjh #GOAT #GreatestOfAllTime #PunjabiSongs2020watch punjabi song G.O.A.T official video - https://youtu.be/cl0a3i2wFcc For latest punjabi songs and latest updatesSubscribe to DILJIT DOSANJH CHANNEL ► https://bit.ly/diljitdosanjhchannel Follow DILJIT DOSANJH online INSTAGRAM: https://www.instagram.com/diljitdosanjhTWITTER : https://twitter.com/diljitdosanjhFACEBOOK: https://www.facebook.com/DiljitDosanjhSNAPCHAT:https://www.snapchat.com/add/thisisdosanjhTRILLER:  @diljitdosanjh'],\n",
       "       ...,\n",
       "       ['QH9pKyfg_fo',\n",
       "        'Production No 12 - Making Glimpse | Pawan Kalyan | Rana Daggubati | Saagar K Chandra | Trivikram',\n",
       "        '2021-07-27T10:36:09Z', ..., False, False,\n",
       "        \"Power Star as #BheemlaNayak, will take charge Sankranthi 2022!Here's a small glimpse from the sets of #ProductionNo12.The film features Power Star Pawan Kalyan & Rana Daggubati in lead roles & Directed by Saagar K Chandra. Produced by Suryadevara Naga Vamsi under Sithara Entertainments. A Thaman S Musical.Cast & CrewStarring - Power Star Pawan Kalyan, Rana DaggubatiEditor - Navin NooliArt - A S PrakashDOP - Ravi K ChandranMusic - Thaman SScreenplay & Dialogues - TrivikramDirector - Saagar K ChandraProducer - Suryadevara Naga VamsiPresenter - PDV PrasadBanner - Sithara Entertainments\"],\n",
       "       ['3E5_581sDok',\n",
       "        'NEW! Ep 3221 - Bhide Ne Sikhaya Jethalal Ko Sabak?! | Taarak Mehta Ka Ooltah Chashmah | तारक मेहता',\n",
       "        '2021-07-30T15:30:00Z', ..., False, False,\n",
       "        \"Click here to Subscribe to Taarak Mehta Ka Ooltah Chashmah Official Channel: https://www.youtube.com/taarakmehtakaooltahchashmah?sub_confirmation=1 Click here to watch all your favorite Episode videos: https://www.youtube.com/watch?v=gqFEadNxmd8&list=PLPbh-P_C0BzRYOkpGxKL-6QmvYSL_ZuCu We bring to you the best videos from your favorite show Taarak Mehta Ka Ooltah Chashmah. So, get your daily dose of laughter with Jethalal, Taarak Mehta, Daya, Champaklal and their neighbors in Gokuldham Society.About Taarak Mehta Ka Ooltah Chashmah:--------------------------------------------------------------------The show is inspired from the famous humorous column 'Duniya Ne Undha Chasma' written by the eminent Gujarati writer Mr. Tarak Mehta. This story revolves around daily happenings in Gokuldham Co-operative Society and covers topical issues which are socially relevant. The show predominantly - revolves around 'Jethalal' (Dilip Joshi) who is an uneducated Gujarati businessman. Your 'Taarak Mehta' (Shailesh Lodha), is his neighbor. 'Jethalal' finds a friend and philosopher in 'Taarak Mehta' and often goes to him for advice whenever he is in trouble. Jethalaal's family includes his simpleton wife 'Daya Ben' (Disha Wakani) and a mischievous son 'Tapu' (Bhavya Gandhi / Raj Anadkat). Tapu is a menace and a constant source of trouble to all the members of Gokuldham. They have often warned 'Jethalal' to reform 'Tapu' or else be prepared to leave the premises. Lost hopes of being heard by his son push Jethalaal' to call his father 'Champaklal' (Amit Bhatt) from the village. This was his great idea of leashing some control over the mischievous Tapu. The opposite happens and the grandfather joins hands with the grandson to make life a roller coaster troublesome ride for Jethalal.Cast:---------Dilip Joshi as Jethalal Champaklal GadaDisha Vakani as Daya Jethalal GadaRaj Anadkat / Bhavya Gandhi as Tipendra Jethalal Gada (Tapu) Amit Bhatt as Champaklal Jayantilal GadaShailesh Lodha as Taarak MehtaSunayana Fozdar / Neha Mehta as Anjali Taarak MehtaTanuj Mahashabde as Krishnan Subramaniam IyerMunmun Dutta as Babita Krishnan IyerMandar Chandwadkar as Aatmaram Tukaram BhideSonalika Joshi as Madhvi Aatmaram BhideNidhi Bhanushali / Palak Sidhwani as Sonalika Aatmaram Bhide (Sonu) Gurucharan Singh/ Balwinder suri as Roshan Singh Harjeet Singh SodhiJennifer Mistry Bansiwal as Roshan Kaur Roshan Singh SodhiKavi Kumar Azad / Nirmal Soni as Dr. Hansraj Hathi Ambika Ranjankar as Komal Hansraj HathiKush Shah as Gulabkumar Hansraj Hathi (Goli)Shyam Pathak as Popatlal PandeySharad Sankla as AbdulAzhar Shaikh as Pinku Produced By: Neela Asit Modi, Asit Kumarr Modi Special Thanks: Mahesh Vakil, Indu Tarak MehtaSet Design: Jayant DeshmukhOn-Air Promotion  ( SAB): SAB OAPCostume Designer: Alka MehtaCostume Stylist: Ekta BrahmbhattSound Recordist: Shakeel Mansuri Cameraman: Aamir ViraniProduction Head: Arvind MarchandeProduction Controler: Vinod ShishupalBackground Music: Sunil PatniOnline Editors: Vishal Tambe, Sandeep Singh Executive Producer: Jatin Yogesh BajajEditor: Dinesh Gosavi, Kaushal Mistry, Devang Modi, Vinod MauryaCreative Supervision: Krunal KhakhkharOperation Head: Sohil RamaniWritten By: Raju Odedra & Rajen UpadhyayDirectors: Harshad Joshi, Malav Suresh RajdaTelevision Adaptation and Designed By: Asit Kumarr ModiMore Useful Links : * Like us on Facebook : http://www.facebook.com/tmkoc.sabtv* Follow us on Instagram : http://www.instagram.com/taarakmehtakaooltahchashmahnfp * Follow us on Twitter : http://www.twitter.com/tmkoc_ntf* Visit us at : http://www.tmkoc.com#tmkoc #taarakmehta #tmkocsmileofindia\"],\n",
       "       ['4ttTSWs2ZW8', 'ഒരു പോത്ത് ഇരു പോത്ത് ബമ്പർ പോത്ത് 🐃',\n",
       "        '2021-07-30T13:53:09Z', ..., False, False,\n",
       "        'Chumma ang irunn enjoy chyy guys hehe.---------------------------------------------------------------------Go Check outhttps://karthiksurya.comTo buy pinshttps://karthiksurya.com/product/d2d-pin-badges2piece/To see my Amazon storehttps://karthiksurya.com/amazonestore/----------------------------------------------------------------------My Address:Karthik SuryaManaging PartnerSumoka InternationalMP X/13,Chandra Square,Mangalapuram Jn.,NH-66,Thonnakkal.P.O, Thiruvananthapuram, Kerala 695317----------------------------------------------------------------------also feel free to stalk me on social media guys.----------------------------------------------------------------------------https://www.instagram.com/karthiksuryavlogshttps://www.facebook.com/passionuntold/karthiksuryavlogs@gmail.com----------------------------------------------------------------------------Music CreditsRythom Ulkahttps://youtu.be/9FvCF0RIX_A---------------------------------------------------------------------------#Karthiksurya #daretodream #dare2dream']],\n",
       "      dtype=object)"
      ]
     },
     "execution_count": 7,
     "metadata": {},
     "output_type": "execute_result"
    }
   ],
   "source": [
    "dataset = np.array(df)\n",
    "dataset"
   ]
  },
  {
   "cell_type": "code",
   "execution_count": 8,
   "id": "11bb1dd7",
   "metadata": {},
   "outputs": [
    {
     "data": {
      "text/plain": [
       "2"
      ]
     },
     "execution_count": 8,
     "metadata": {},
     "output_type": "execute_result"
    }
   ],
   "source": [
    "dataset.ndim"
   ]
  },
  {
   "cell_type": "code",
   "execution_count": 9,
   "id": "d9f76c47",
   "metadata": {},
   "outputs": [
    {
     "data": {
      "text/plain": [
       "8"
      ]
     },
     "execution_count": 9,
     "metadata": {},
     "output_type": "execute_result"
    }
   ],
   "source": [
    "dataset.itemsize"
   ]
  },
  {
   "cell_type": "code",
   "execution_count": 10,
   "id": "31347a32",
   "metadata": {},
   "outputs": [
    {
     "data": {
      "text/plain": [
       "(67419, 16)"
      ]
     },
     "execution_count": 10,
     "metadata": {},
     "output_type": "execute_result"
    }
   ],
   "source": [
    "dataset.shape"
   ]
  },
  {
   "cell_type": "code",
   "execution_count": 11,
   "id": "4727f7c2",
   "metadata": {},
   "outputs": [
    {
     "data": {
      "text/plain": [
       "1078704"
      ]
     },
     "execution_count": 11,
     "metadata": {},
     "output_type": "execute_result"
    }
   ],
   "source": [
    "dataset.size"
   ]
  },
  {
   "cell_type": "code",
   "execution_count": 12,
   "id": "75352e8b",
   "metadata": {},
   "outputs": [
    {
     "name": "stdout",
     "output_type": "stream",
     "text": [
      "object\n"
     ]
    }
   ],
   "source": [
    "print(dataset.dtype)"
   ]
  },
  {
   "cell_type": "code",
   "execution_count": 13,
   "id": "4ac7dc69",
   "metadata": {},
   "outputs": [
    {
     "name": "stdout",
     "output_type": "stream",
     "text": [
      "No of Channels Present: 2330\n"
     ]
    }
   ],
   "source": [
    "temp = np.array(df['channelTitle'],dtype=str)\n",
    "no_of_Channels=np.unique(temp)\n",
    "print('No of Channels Present:',no_of_Channels.size)"
   ]
  },
  {
   "cell_type": "code",
   "execution_count": 14,
   "id": "92a1e8b8",
   "metadata": {},
   "outputs": [
    {
     "data": {
      "text/plain": [
       "(67419, 11)"
      ]
     },
     "execution_count": 14,
     "metadata": {},
     "output_type": "execute_result"
    }
   ],
   "source": [
    "dataset=np.delete(dataset,(7,12,13,14,15),1)\n",
    "dataset.shape"
   ]
  },
  {
   "cell_type": "code",
   "execution_count": 15,
   "id": "492ab7c2",
   "metadata": {
    "scrolled": true
   },
   "outputs": [
    {
     "name": "stderr",
     "output_type": "stream",
     "text": [
      "<ipython-input-15-88d04c152a37>:6: DeprecationWarning: parsing timezone aware datetimes is deprecated; this will raise an error in the future\n",
      "  if np.datetime64(today,'Y') == year[0]:\n",
      "<ipython-input-15-88d04c152a37>:8: DeprecationWarning: parsing timezone aware datetimes is deprecated; this will raise an error in the future\n",
      "  elif(np.datetime64(today,'Y')==year[1]):\n"
     ]
    }
   ],
   "source": [
    "data1 = np.empty([0,11],dtype=object)\n",
    "data2 = np.empty([0,11],dtype=object)\n",
    "year = np.array(['2020','2021'],dtype='datetime64')\n",
    "for row in dataset:\n",
    "    today=row[2]\n",
    "    if np.datetime64(today,'Y') == year[0]:\n",
    "         data1 = np.append(data1,[row],axis=0)  \n",
    "    elif(np.datetime64(today,'Y')==year[1]):\n",
    "         data2 = np.append(data2,[row],axis=0)"
   ]
  },
  {
   "cell_type": "code",
   "execution_count": 16,
   "id": "a0c8d953",
   "metadata": {},
   "outputs": [],
   "source": [
    "Year_2020=pd.DataFrame(data1,columns=['Video_Id','Title','Published_Date','Channel_Id','Channel_Name','Category_Id','Trending_Date','View_Count','Like','Dislike','Comment_Count'])\n",
    "Year_2021=pd.DataFrame(data2,columns=['Video_Id','Title','Published_Date','Channel_Id','Channel_Name','Category_Id','Trending_Date','View_Count','Like','Dislike','Comment_Count'])"
   ]
  },
  {
   "cell_type": "code",
   "execution_count": 23,
   "id": "9672959c",
   "metadata": {},
   "outputs": [
    {
     "data": {
      "text/html": [
       "<div>\n",
       "<style scoped>\n",
       "    .dataframe tbody tr th:only-of-type {\n",
       "        vertical-align: middle;\n",
       "    }\n",
       "\n",
       "    .dataframe tbody tr th {\n",
       "        vertical-align: top;\n",
       "    }\n",
       "\n",
       "    .dataframe thead th {\n",
       "        text-align: right;\n",
       "    }\n",
       "</style>\n",
       "<table border=\"1\" class=\"dataframe\">\n",
       "  <thead>\n",
       "    <tr style=\"text-align: right;\">\n",
       "      <th></th>\n",
       "      <th>Video_Id</th>\n",
       "      <th>Title</th>\n",
       "      <th>Published_Date</th>\n",
       "      <th>Channel_Id</th>\n",
       "      <th>Channel_Name</th>\n",
       "      <th>Category_Id</th>\n",
       "      <th>Trending_Date</th>\n",
       "      <th>View_Count</th>\n",
       "      <th>Like</th>\n",
       "      <th>Dislike</th>\n",
       "      <th>Comment_Count</th>\n",
       "    </tr>\n",
       "  </thead>\n",
       "  <tbody>\n",
       "    <tr>\n",
       "      <th>0</th>\n",
       "      <td>Iot0eF6EoNA</td>\n",
       "      <td>Sadak 2 | Official Trailer | Sanjay | Pooja | ...</td>\n",
       "      <td>2020-08-12T04:31:41Z</td>\n",
       "      <td>UCGqvJPRcv7aVFun-eTsatcA</td>\n",
       "      <td>FoxStarHindi</td>\n",
       "      <td>24</td>\n",
       "      <td>2020-08-12T00:00:00Z</td>\n",
       "      <td>9885899</td>\n",
       "      <td>224925</td>\n",
       "      <td>3979409</td>\n",
       "      <td>350210</td>\n",
       "    </tr>\n",
       "    <tr>\n",
       "      <th>1</th>\n",
       "      <td>x-KbnJ9fvJc</td>\n",
       "      <td>Kya Baat Aa : Karan Aujla (Official Video) Tan...</td>\n",
       "      <td>2020-08-11T09:00:11Z</td>\n",
       "      <td>UCm9SZAl03Rev9sFwloCdz1g</td>\n",
       "      <td>Rehaan Records</td>\n",
       "      <td>10</td>\n",
       "      <td>2020-08-12T00:00:00Z</td>\n",
       "      <td>11308046</td>\n",
       "      <td>655450</td>\n",
       "      <td>33242</td>\n",
       "      <td>405146</td>\n",
       "    </tr>\n",
       "    <tr>\n",
       "      <th>2</th>\n",
       "      <td>KX06ksuS6Xo</td>\n",
       "      <td>Diljit Dosanjh: CLASH (Official) Music Video |...</td>\n",
       "      <td>2020-08-11T07:30:02Z</td>\n",
       "      <td>UCZRdNleCgW-BGUJf-bbjzQg</td>\n",
       "      <td>Diljit Dosanjh</td>\n",
       "      <td>10</td>\n",
       "      <td>2020-08-12T00:00:00Z</td>\n",
       "      <td>9140911</td>\n",
       "      <td>296533</td>\n",
       "      <td>6179</td>\n",
       "      <td>30058</td>\n",
       "    </tr>\n",
       "    <tr>\n",
       "      <th>3</th>\n",
       "      <td>UsMRgnTcchY</td>\n",
       "      <td>Dil Ko Maine Di Kasam Video | Amaal M Ft.Ariji...</td>\n",
       "      <td>2020-08-10T05:30:49Z</td>\n",
       "      <td>UCq-Fj5jknLsUf-MWSy4_brA</td>\n",
       "      <td>T-Series</td>\n",
       "      <td>10</td>\n",
       "      <td>2020-08-12T00:00:00Z</td>\n",
       "      <td>23564512</td>\n",
       "      <td>743931</td>\n",
       "      <td>84162</td>\n",
       "      <td>136942</td>\n",
       "    </tr>\n",
       "    <tr>\n",
       "      <th>4</th>\n",
       "      <td>WNSEXJJhKTU</td>\n",
       "      <td>Baarish (Official Video) Payal Dev,Stebin Ben ...</td>\n",
       "      <td>2020-08-11T05:30:13Z</td>\n",
       "      <td>UCye6Oz0mg46S362LwARGVcA</td>\n",
       "      <td>VYRLOriginals</td>\n",
       "      <td>10</td>\n",
       "      <td>2020-08-12T00:00:00Z</td>\n",
       "      <td>6783649</td>\n",
       "      <td>268817</td>\n",
       "      <td>8798</td>\n",
       "      <td>22984</td>\n",
       "    </tr>\n",
       "  </tbody>\n",
       "</table>\n",
       "</div>"
      ],
      "text/plain": [
       "      Video_Id                                              Title  \\\n",
       "0  Iot0eF6EoNA  Sadak 2 | Official Trailer | Sanjay | Pooja | ...   \n",
       "1  x-KbnJ9fvJc  Kya Baat Aa : Karan Aujla (Official Video) Tan...   \n",
       "2  KX06ksuS6Xo  Diljit Dosanjh: CLASH (Official) Music Video |...   \n",
       "3  UsMRgnTcchY  Dil Ko Maine Di Kasam Video | Amaal M Ft.Ariji...   \n",
       "4  WNSEXJJhKTU  Baarish (Official Video) Payal Dev,Stebin Ben ...   \n",
       "\n",
       "         Published_Date                Channel_Id    Channel_Name Category_Id  \\\n",
       "0  2020-08-12T04:31:41Z  UCGqvJPRcv7aVFun-eTsatcA    FoxStarHindi          24   \n",
       "1  2020-08-11T09:00:11Z  UCm9SZAl03Rev9sFwloCdz1g  Rehaan Records          10   \n",
       "2  2020-08-11T07:30:02Z  UCZRdNleCgW-BGUJf-bbjzQg  Diljit Dosanjh          10   \n",
       "3  2020-08-10T05:30:49Z  UCq-Fj5jknLsUf-MWSy4_brA        T-Series          10   \n",
       "4  2020-08-11T05:30:13Z  UCye6Oz0mg46S362LwARGVcA   VYRLOriginals          10   \n",
       "\n",
       "          Trending_Date View_Count    Like  Dislike Comment_Count  \n",
       "0  2020-08-12T00:00:00Z    9885899  224925  3979409        350210  \n",
       "1  2020-08-12T00:00:00Z   11308046  655450    33242        405146  \n",
       "2  2020-08-12T00:00:00Z    9140911  296533     6179         30058  \n",
       "3  2020-08-12T00:00:00Z   23564512  743931    84162        136942  \n",
       "4  2020-08-12T00:00:00Z    6783649  268817     8798         22984  "
      ]
     },
     "execution_count": 23,
     "metadata": {},
     "output_type": "execute_result"
    }
   ],
   "source": [
    "Year_2020.head()"
   ]
  },
  {
   "cell_type": "code",
   "execution_count": 22,
   "id": "01d47b94",
   "metadata": {},
   "outputs": [
    {
     "data": {
      "text/html": [
       "<div>\n",
       "<style scoped>\n",
       "    .dataframe tbody tr th:only-of-type {\n",
       "        vertical-align: middle;\n",
       "    }\n",
       "\n",
       "    .dataframe tbody tr th {\n",
       "        vertical-align: top;\n",
       "    }\n",
       "\n",
       "    .dataframe thead th {\n",
       "        text-align: right;\n",
       "    }\n",
       "</style>\n",
       "<table border=\"1\" class=\"dataframe\">\n",
       "  <thead>\n",
       "    <tr style=\"text-align: right;\">\n",
       "      <th></th>\n",
       "      <th>Video_Id</th>\n",
       "      <th>Title</th>\n",
       "      <th>Published_Date</th>\n",
       "      <th>Channel_Id</th>\n",
       "      <th>Channel_Name</th>\n",
       "      <th>Category_Id</th>\n",
       "      <th>Trending_Date</th>\n",
       "      <th>View_Count</th>\n",
       "      <th>Like</th>\n",
       "      <th>Dislike</th>\n",
       "      <th>Comment_Count</th>\n",
       "    </tr>\n",
       "  </thead>\n",
       "  <tbody>\n",
       "    <tr>\n",
       "      <th>0</th>\n",
       "      <td>EAvpSWmoPSA</td>\n",
       "      <td>Krack Movie Trailer - Raviteja, Shruti Hassan ...</td>\n",
       "      <td>2021-01-01T05:30:00Z</td>\n",
       "      <td>UCnSqxrSfo1sK4WZ7nBpYW1Q</td>\n",
       "      <td>Lahari Music | T-Series</td>\n",
       "      <td>10</td>\n",
       "      <td>2021-01-01T00:00:00Z</td>\n",
       "      <td>4574789</td>\n",
       "      <td>181948</td>\n",
       "      <td>3300</td>\n",
       "      <td>11549</td>\n",
       "    </tr>\n",
       "    <tr>\n",
       "      <th>1</th>\n",
       "      <td>sq5pf_LQSIw</td>\n",
       "      <td>New year का आलस - 2021 Special, आलसी पत्नी, Hi...</td>\n",
       "      <td>2021-01-01T03:04:26Z</td>\n",
       "      <td>UCMmHfwNsk0QUe0jhv5zTAFQ</td>\n",
       "      <td>Ajay Chauhan</td>\n",
       "      <td>24</td>\n",
       "      <td>2021-01-01T00:00:00Z</td>\n",
       "      <td>1031555</td>\n",
       "      <td>25523</td>\n",
       "      <td>3835</td>\n",
       "      <td>1001</td>\n",
       "    </tr>\n",
       "    <tr>\n",
       "      <th>2</th>\n",
       "      <td>XwVjf4pWARY</td>\n",
       "      <td>01 Jan | Daily Current Affairs Live Show #435 ...</td>\n",
       "      <td>2021-01-01T02:20:10Z</td>\n",
       "      <td>UCLuBF4Xr1-BIpcpFFm7zp7w</td>\n",
       "      <td>UTKARSH CLASSES JODHPUR</td>\n",
       "      <td>27</td>\n",
       "      <td>2021-01-01T00:00:00Z</td>\n",
       "      <td>451622</td>\n",
       "      <td>67456</td>\n",
       "      <td>818</td>\n",
       "      <td>3312</td>\n",
       "    </tr>\n",
       "    <tr>\n",
       "      <th>3</th>\n",
       "      <td>59L49IxarqA</td>\n",
       "      <td>Jignesh Barot || Paarka || 2021 HD Video || Ne...</td>\n",
       "      <td>2021-01-01T01:45:00Z</td>\n",
       "      <td>UC54FS_YP3B6bJkQ9gwF0lBg</td>\n",
       "      <td>Ekta Sound</td>\n",
       "      <td>10</td>\n",
       "      <td>2021-01-01T00:00:00Z</td>\n",
       "      <td>377504</td>\n",
       "      <td>18904</td>\n",
       "      <td>888</td>\n",
       "      <td>976</td>\n",
       "    </tr>\n",
       "    <tr>\n",
       "      <th>4</th>\n",
       "      <td>wFt35453ZtI</td>\n",
       "      <td>Bigg Boss Tamil Season 4  | 1st January 2021 -...</td>\n",
       "      <td>2021-01-01T04:00:38Z</td>\n",
       "      <td>UCvrhwpnp2DHYQ1CbXby9ypQ</td>\n",
       "      <td>Vijay Television</td>\n",
       "      <td>24</td>\n",
       "      <td>2021-01-01T00:00:00Z</td>\n",
       "      <td>3760567</td>\n",
       "      <td>83924</td>\n",
       "      <td>2128</td>\n",
       "      <td>26557</td>\n",
       "    </tr>\n",
       "  </tbody>\n",
       "</table>\n",
       "</div>"
      ],
      "text/plain": [
       "      Video_Id                                              Title  \\\n",
       "0  EAvpSWmoPSA  Krack Movie Trailer - Raviteja, Shruti Hassan ...   \n",
       "1  sq5pf_LQSIw  New year का आलस - 2021 Special, आलसी पत्नी, Hi...   \n",
       "2  XwVjf4pWARY  01 Jan | Daily Current Affairs Live Show #435 ...   \n",
       "3  59L49IxarqA  Jignesh Barot || Paarka || 2021 HD Video || Ne...   \n",
       "4  wFt35453ZtI  Bigg Boss Tamil Season 4  | 1st January 2021 -...   \n",
       "\n",
       "         Published_Date                Channel_Id             Channel_Name  \\\n",
       "0  2021-01-01T05:30:00Z  UCnSqxrSfo1sK4WZ7nBpYW1Q  Lahari Music | T-Series   \n",
       "1  2021-01-01T03:04:26Z  UCMmHfwNsk0QUe0jhv5zTAFQ             Ajay Chauhan   \n",
       "2  2021-01-01T02:20:10Z  UCLuBF4Xr1-BIpcpFFm7zp7w  UTKARSH CLASSES JODHPUR   \n",
       "3  2021-01-01T01:45:00Z  UC54FS_YP3B6bJkQ9gwF0lBg               Ekta Sound   \n",
       "4  2021-01-01T04:00:38Z  UCvrhwpnp2DHYQ1CbXby9ypQ         Vijay Television   \n",
       "\n",
       "  Category_Id         Trending_Date View_Count    Like Dislike Comment_Count  \n",
       "0          10  2021-01-01T00:00:00Z    4574789  181948    3300         11549  \n",
       "1          24  2021-01-01T00:00:00Z    1031555   25523    3835          1001  \n",
       "2          27  2021-01-01T00:00:00Z     451622   67456     818          3312  \n",
       "3          10  2021-01-01T00:00:00Z     377504   18904     888           976  \n",
       "4          24  2021-01-01T00:00:00Z    3760567   83924    2128         26557  "
      ]
     },
     "execution_count": 22,
     "metadata": {},
     "output_type": "execute_result"
    }
   ],
   "source": [
    "Year_2021.head()"
   ]
  },
  {
   "cell_type": "code",
   "execution_count": 19,
   "id": "5fff13e4",
   "metadata": {},
   "outputs": [
    {
     "data": {
      "text/plain": [
       "(67419, 11)"
      ]
     },
     "execution_count": 19,
     "metadata": {},
     "output_type": "execute_result"
    }
   ],
   "source": [
    "concat_arr = np.concatenate((data1,data2),axis=0)\n",
    "concat_arr.shape"
   ]
  },
  {
   "cell_type": "code",
   "execution_count": null,
   "id": "3352a5ff",
   "metadata": {},
   "outputs": [],
   "source": []
  }
 ],
 "metadata": {
  "kernelspec": {
   "display_name": "Python 3",
   "language": "python",
   "name": "python3"
  },
  "language_info": {
   "codemirror_mode": {
    "name": "ipython",
    "version": 3
   },
   "file_extension": ".py",
   "mimetype": "text/x-python",
   "name": "python",
   "nbconvert_exporter": "python",
   "pygments_lexer": "ipython3",
   "version": "3.8.8"
  }
 },
 "nbformat": 4,
 "nbformat_minor": 5
}
